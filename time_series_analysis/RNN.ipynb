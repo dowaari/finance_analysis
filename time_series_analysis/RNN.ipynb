{
 "cells": [
  {
   "cell_type": "code",
   "execution_count": 1,
   "metadata": {},
   "outputs": [
    {
     "name": "stderr",
     "output_type": "stream",
     "text": [
      "Using TensorFlow backend.\n"
     ]
    }
   ],
   "source": [
    "import numpy as np\n",
    "from keras.models import Model\n",
    "from keras.layers import Input, SimpleRNN, Dense, LSTM\n",
    "import matplotlib.pyplot as plt\n",
    "%matplotlib inline"
   ]
  },
  {
   "cell_type": "markdown",
   "metadata": {},
   "source": [
    "many-to-one 문제\n",
    "\n",
    "입력 데이터 형식 : `(nb_samples, timesteps, input_dim)`\n",
    "\n",
    "`nb_samples` : 전체 자료의 수\n",
    "\n",
    "`timesteps` : 시퀀스의 길이\n",
    "\n",
    "`input_dim` : x벡터의 크기\n",
    "\n",
    "[0.1, 0.2, 0.3] = [0.4]\n",
    "\n",
    "[0.2, 0.3, 0.4] = [0.5]\n",
    "\n",
    "[0.3, 0.4, 0.5] = [0.6]\n",
    "\n",
    "[0.4, 0.5, 0.6] = [0.7]"
   ]
  },
  {
   "cell_type": "code",
   "execution_count": 2,
   "metadata": {},
   "outputs": [
    {
     "name": "stdout",
     "output_type": "stream",
     "text": [
      "[Shape]\n",
      "x : (4, 3, 1), y : (4, 1)\n"
     ]
    }
   ],
   "source": [
    "x = np.array([[[0.1], [0.2], [0.3]], [[0.2], [0.3], [0.4]], [[0.3], [0.4], [0.5]], [[0.4], [0.5], [0.6]]], dtype=np.float32)\n",
    "y = np.array([[0.4], [0.5], [0.6], [0.7]], dtype=np.float32)\n",
    "\n",
    "print('[Shape]')\n",
    "print('x : {}, y : {}'.format(x.shape, y.shape))"
   ]
  },
  {
   "cell_type": "code",
   "execution_count": 3,
   "metadata": {},
   "outputs": [
    {
     "name": "stdout",
     "output_type": "stream",
     "text": [
      "WARNING:tensorflow:From C:\\Users\\barce\\Anaconda3\\envs\\data-analysis\\lib\\site-packages\\keras\\backend\\tensorflow_backend.py:517: The name tf.placeholder is deprecated. Please use tf.compat.v1.placeholder instead.\n",
      "\n",
      "WARNING:tensorflow:From C:\\Users\\barce\\Anaconda3\\envs\\data-analysis\\lib\\site-packages\\keras\\backend\\tensorflow_backend.py:74: The name tf.get_default_graph is deprecated. Please use tf.compat.v1.get_default_graph instead.\n",
      "\n",
      "WARNING:tensorflow:From C:\\Users\\barce\\Anaconda3\\envs\\data-analysis\\lib\\site-packages\\keras\\backend\\tensorflow_backend.py:4138: The name tf.random_uniform is deprecated. Please use tf.random.uniform instead.\n",
      "\n",
      "_________________________________________________________________\n",
      "Layer (type)                 Output Shape              Param #   \n",
      "=================================================================\n",
      "input (InputLayer)           (None, 3, 1)              0         \n",
      "_________________________________________________________________\n",
      "RNN (SimpleRNN)              (None, 100)               10200     \n",
      "_________________________________________________________________\n",
      "output (Dense)               (None, 1)                 101       \n",
      "=================================================================\n",
      "Total params: 10,301\n",
      "Trainable params: 10,301\n",
      "Non-trainable params: 0\n",
      "_________________________________________________________________\n",
      "None\n",
      "WARNING:tensorflow:From C:\\Users\\barce\\Anaconda3\\envs\\data-analysis\\lib\\site-packages\\keras\\optimizers.py:790: The name tf.train.Optimizer is deprecated. Please use tf.compat.v1.train.Optimizer instead.\n",
      "\n"
     ]
    }
   ],
   "source": [
    "input_layer = Input(shape=(3,1), name='input')\n",
    "rnn_layer = SimpleRNN(100, name='RNN', activation='relu')(input_layer)\n",
    "output_layer = Dense(1, name='output', activation=\"linear\")(rnn_layer)\n",
    "\n",
    "model = Model(input_layer, output_layer)\n",
    "\n",
    "print(model.summary())\n",
    "\n",
    "model.compile(loss='mse', optimizer='adam')\n",
    "model._name = 'm_to_o'"
   ]
  },
  {
   "cell_type": "code",
   "execution_count": 4,
   "metadata": {},
   "outputs": [
    {
     "name": "stdout",
     "output_type": "stream",
     "text": [
      "WARNING:tensorflow:From C:\\Users\\barce\\Anaconda3\\envs\\data-analysis\\lib\\site-packages\\keras\\backend\\tensorflow_backend.py:986: The name tf.assign_add is deprecated. Please use tf.compat.v1.assign_add instead.\n",
      "\n",
      "WARNING:tensorflow:From C:\\Users\\barce\\Anaconda3\\envs\\data-analysis\\lib\\site-packages\\keras\\backend\\tensorflow_backend.py:973: The name tf.assign is deprecated. Please use tf.compat.v1.assign instead.\n",
      "\n",
      "WARNING:tensorflow:From C:\\Users\\barce\\Anaconda3\\envs\\data-analysis\\lib\\site-packages\\keras\\backend\\tensorflow_backend.py:2741: The name tf.Session is deprecated. Please use tf.compat.v1.Session instead.\n",
      "\n",
      "WARNING:tensorflow:From C:\\Users\\barce\\Anaconda3\\envs\\data-analysis\\lib\\site-packages\\keras\\backend\\tensorflow_backend.py:174: The name tf.get_default_session is deprecated. Please use tf.compat.v1.get_default_session instead.\n",
      "\n",
      "WARNING:tensorflow:From C:\\Users\\barce\\Anaconda3\\envs\\data-analysis\\lib\\site-packages\\keras\\backend\\tensorflow_backend.py:181: The name tf.ConfigProto is deprecated. Please use tf.compat.v1.ConfigProto instead.\n",
      "\n",
      "WARNING:tensorflow:From C:\\Users\\barce\\Anaconda3\\envs\\data-analysis\\lib\\site-packages\\keras\\backend\\tensorflow_backend.py:190: The name tf.global_variables is deprecated. Please use tf.compat.v1.global_variables instead.\n",
      "\n",
      "WARNING:tensorflow:From C:\\Users\\barce\\Anaconda3\\envs\\data-analysis\\lib\\site-packages\\keras\\backend\\tensorflow_backend.py:199: The name tf.is_variable_initialized is deprecated. Please use tf.compat.v1.is_variable_initialized instead.\n",
      "\n",
      "WARNING:tensorflow:From C:\\Users\\barce\\Anaconda3\\envs\\data-analysis\\lib\\site-packages\\keras\\backend\\tensorflow_backend.py:206: The name tf.variables_initializer is deprecated. Please use tf.compat.v1.variables_initializer instead.\n",
      "\n",
      "Training result\n",
      "[[0.39999402]\n",
      " [0.49985087]\n",
      " [0.59992796]\n",
      " [0.70033187]]\n",
      "\n",
      "Test result\n",
      "[[0.8011051]]\n"
     ]
    }
   ],
   "source": [
    "model.fit(x, y, epochs=100, batch_size=1, verbose=0)\n",
    "\n",
    "print('Training result')\n",
    "print(model.predict(x))\n",
    "\n",
    "print('\\nTest result')\n",
    "print(model.predict(np.array([[[0.5], [0.6], [0.7]]], dtype=np.float32)))"
   ]
  },
  {
   "cell_type": "code",
   "execution_count": 5,
   "metadata": {},
   "outputs": [
    {
     "name": "stdout",
     "output_type": "stream",
     "text": [
      "_________________________________________________________________\n",
      "Layer (type)                 Output Shape              Param #   \n",
      "=================================================================\n",
      "input (InputLayer)           (None, 3, 1)              0         \n",
      "_________________________________________________________________\n",
      "RNN (SimpleRNN)              (None, 3, 100)            10200     \n",
      "_________________________________________________________________\n",
      "RNN2 (SimpleRNN)             (None, 100)               20100     \n",
      "_________________________________________________________________\n",
      "output (Dense)               (None, 1)                 101       \n",
      "=================================================================\n",
      "Total params: 30,401\n",
      "Trainable params: 30,401\n",
      "Non-trainable params: 0\n",
      "_________________________________________________________________\n",
      "None\n"
     ]
    }
   ],
   "source": [
    "input_layer = Input(shape=(3,1), name='input')\n",
    "rnn_layer = SimpleRNN(100, return_sequences=True, name='RNN', activation='relu')(input_layer)\n",
    "rnn2_layer = SimpleRNN(100, name='RNN2', activation='relu')(rnn_layer)\n",
    "output_layer = Dense(1, name='output', activation=\"linear\")(rnn2_layer)\n",
    "\n",
    "model = Model(input_layer, output_layer)\n",
    "\n",
    "print(model.summary())\n",
    "\n",
    "model.compile(loss='mse', optimizer='adam')\n",
    "model._name = 'stacked_m_to_o'"
   ]
  },
  {
   "cell_type": "code",
   "execution_count": 6,
   "metadata": {},
   "outputs": [
    {
     "name": "stdout",
     "output_type": "stream",
     "text": [
      "Training result\n",
      "[[0.39968723]\n",
      " [0.5004885 ]\n",
      " [0.5996431 ]\n",
      " [0.6999131 ]]\n",
      "\n",
      "Test result\n",
      "[[0.8019204]]\n"
     ]
    }
   ],
   "source": [
    "model.fit(x, y, epochs=100, batch_size=1, verbose=0)\n",
    "\n",
    "print('Training result')\n",
    "print(model.predict(x))\n",
    "\n",
    "print('\\nTest result')\n",
    "print(model.predict(np.array([[[0.5], [0.6], [0.7]]], dtype=np.float32)))"
   ]
  },
  {
   "cell_type": "markdown",
   "metadata": {},
   "source": [
    "sin 그래프 예측하기"
   ]
  },
  {
   "cell_type": "code",
   "execution_count": 7,
   "metadata": {},
   "outputs": [
    {
     "data": {
      "image/png": "[encoded data removed]",
      "text/plain": [
       "<Figure size 432x288 with 1 Axes>"
      ]
     },
     "metadata": {
      "needs_background": "light"
     },
     "output_type": "display_data"
    }
   ],
   "source": [
    "s = np.sin(2 * np.pi * 0.125 * np.arange(40))\n",
    "plt.plot(s, 'ro-')\n",
    "plt.xlim(-0.5, 40.5)\n",
    "plt.ylim(-1.1, 1.1)\n",
    "plt.show()"
   ]
  },
  {
   "cell_type": "code",
   "execution_count": 8,
   "metadata": {},
   "outputs": [
    {
     "name": "stdout",
     "output_type": "stream",
     "text": [
      "(39, 40)\n"
     ]
    }
   ],
   "source": [
    "from scipy.linalg import toeplitz\n",
    "S = np.fliplr(toeplitz(np.r_[s[-1], np.zeros(s.shape[0] - 2)], s[::-1]))\n",
    "print(S.shape)"
   ]
  },
  {
   "cell_type": "markdown",
   "metadata": {},
   "source": [
    "학습용 데이터와 테스트 데이터로 분리하기"
   ]
  },
  {
   "cell_type": "code",
   "execution_count": 9,
   "metadata": {},
   "outputs": [
    {
     "data": {
      "text/plain": [
       "((29, 3, 1), (29,))"
      ]
     },
     "execution_count": 9,
     "metadata": {},
     "output_type": "execute_result"
    }
   ],
   "source": [
    "X_train = S[:-10, :3][:, :, np.newaxis]\n",
    "Y_train = S[:-10, 3]\n",
    "X_train.shape, Y_train.shape"
   ]
  },
  {
   "cell_type": "code",
   "execution_count": 10,
   "metadata": {},
   "outputs": [
    {
     "data": {
      "text/plain": [
       "((9, 3, 1), (9,))"
      ]
     },
     "execution_count": 10,
     "metadata": {},
     "output_type": "execute_result"
    }
   ],
   "source": [
    "X_test = S[-10:-1, :3][:, :, np.newaxis]\n",
    "Y_test = S[-10:-1, 3]\n",
    "X_test.shape, Y_test.shape"
   ]
  },
  {
   "cell_type": "code",
   "execution_count": 11,
   "metadata": {},
   "outputs": [
    {
     "data": {
      "text/plain": [
       "array([[[ 0.00000000e+00],\n",
       "        [ 7.07106781e-01],\n",
       "        [ 1.00000000e+00]],\n",
       "\n",
       "       [[ 7.07106781e-01],\n",
       "        [ 1.00000000e+00],\n",
       "        [ 7.07106781e-01]],\n",
       "\n",
       "       [[ 1.00000000e+00],\n",
       "        [ 7.07106781e-01],\n",
       "        [ 1.22464680e-16]],\n",
       "\n",
       "       [[ 7.07106781e-01],\n",
       "        [ 1.22464680e-16],\n",
       "        [-7.07106781e-01]]])"
      ]
     },
     "execution_count": 11,
     "metadata": {},
     "output_type": "execute_result"
    }
   ],
   "source": [
    "X_train[:4]"
   ]
  },
  {
   "cell_type": "code",
   "execution_count": 12,
   "metadata": {},
   "outputs": [
    {
     "data": {
      "text/plain": [
       "array([ 7.07106781e-01,  1.22464680e-16, -7.07106781e-01, -1.00000000e+00])"
      ]
     },
     "execution_count": 12,
     "metadata": {},
     "output_type": "execute_result"
    }
   ],
   "source": [
    "Y_train[:4]"
   ]
  },
  {
   "cell_type": "code",
   "execution_count": 13,
   "metadata": {},
   "outputs": [
    {
     "data": {
      "image/png": "[encoded data removed]",
      "text/plain": [
       "<Figure size 432x288 with 2 Axes>"
      ]
     },
     "metadata": {
      "needs_background": "light"
     },
     "output_type": "display_data"
    }
   ],
   "source": [
    "plt.subplot(211)\n",
    "plt.plot([0, 1, 2], X_train[0].flatten(), 'bo-', label=\"X_train\")\n",
    "plt.plot([3], Y_train[0], 'ro', label=\"Y_train\")\n",
    "plt.xlim(-0.5, 4.5)\n",
    "plt.ylim(-1.1, 1.1)\n",
    "plt.legend()\n",
    "plt.title(\"First sample\")\n",
    "plt.subplot(212)\n",
    "plt.plot([1, 2, 3], X_train[1].flatten(), 'bo-', label=\"X_train\")\n",
    "plt.plot([4], Y_train[1], 'ro', label=\"Y_train\")\n",
    "plt.xlim(-0.5, 4.5)\n",
    "plt.ylim(-1.1, 1.1)\n",
    "plt.legend()\n",
    "plt.title(\"Second sample\")\n",
    "plt.tight_layout()"
   ]
  },
  {
   "cell_type": "code",
   "execution_count": 14,
   "metadata": {},
   "outputs": [
    {
     "name": "stdout",
     "output_type": "stream",
     "text": [
      "_________________________________________________________________\n",
      "Layer (type)                 Output Shape              Param #   \n",
      "=================================================================\n",
      "input (InputLayer)           (None, 3, 1)              0         \n",
      "_________________________________________________________________\n",
      "RNN (SimpleRNN)              (None, 100)               10200     \n",
      "_________________________________________________________________\n",
      "output (Dense)               (None, 1)                 101       \n",
      "=================================================================\n",
      "Total params: 10,301\n",
      "Trainable params: 10,301\n",
      "Non-trainable params: 0\n",
      "_________________________________________________________________\n",
      "None\n"
     ]
    }
   ],
   "source": [
    "np.random.seed(0)\n",
    "\n",
    "input_layer = Input(shape=(3,1), name='input')\n",
    "rnn_layer = SimpleRNN(100, name='RNN', activation='relu')(input_layer)\n",
    "output_layer = Dense(1, name='output', activation=\"linear\")(rnn_layer)\n",
    "model = Model(input_layer, output_layer)\n",
    "print(model.summary())\n",
    "\n",
    "model.compile(loss='mse', optimizer='adam')\n",
    "model._name = 'm_to_o'"
   ]
  },
  {
   "cell_type": "code",
   "execution_count": 15,
   "metadata": {},
   "outputs": [],
   "source": [
    "history = model.fit(X_train, Y_train, epochs=100, verbose=0)"
   ]
  },
  {
   "cell_type": "markdown",
   "metadata": {},
   "source": [
    "`Loss`는 1 epoch를 수행하고 나온 결과와 실제 값에 대한 오차"
   ]
  },
  {
   "cell_type": "code",
   "execution_count": 16,
   "metadata": {},
   "outputs": [
    {
     "data": {
      "image/png": "[encoded data removed]",
      "text/plain": [
       "<Figure size 432x288 with 1 Axes>"
      ]
     },
     "metadata": {
      "needs_background": "light"
     },
     "output_type": "display_data"
    }
   ],
   "source": [
    "plt.plot(history.history[\"loss\"])\n",
    "plt.title(\"Loss\")\n",
    "plt.grid()"
   ]
  },
  {
   "cell_type": "code",
   "execution_count": 17,
   "metadata": {},
   "outputs": [
    {
     "data": {
      "image/png": "[encoded data removed]",
      "text/plain": [
       "<Figure size 720x360 with 2 Axes>"
      ]
     },
     "metadata": {
      "needs_background": "light"
     },
     "output_type": "display_data"
    }
   ],
   "source": [
    "plt.rcParams[\"figure.figsize\"] = (10,5)\n",
    "plt.subplot(121)\n",
    "plt.plot(Y_train, 'ro-', label=\"Y_train\")\n",
    "plt.plot(model.predict(X_train[:, :, :]), 'bs-', label=\"Predict\")\n",
    "plt.xlim(-0.5, 20.5)\n",
    "plt.ylim(-1.1, 1.1)\n",
    "plt.legend()\n",
    "plt.grid()\n",
    "plt.title(\"Training result\")\n",
    "\n",
    "plt.subplot(122)\n",
    "plt.plot(Y_test, 'ro-', label=\"Y_test\")\n",
    "plt.plot(model.predict(X_test[:, :, :]), 'bs-', label=\"Predict\")\n",
    "plt.xlim(-0.5, 20.5)\n",
    "plt.ylim(-1.1, 1.1)\n",
    "plt.legend()\n",
    "plt.grid()\n",
    "plt.title(\"Test result\")\n",
    "\n",
    "plt.tight_layout()"
   ]
  },
  {
   "cell_type": "code",
   "execution_count": null,
   "metadata": {},
   "outputs": [],
   "source": []
  }
 ],
 "metadata": {
  "kernelspec": {
   "display_name": "Python 3",
   "language": "python",
   "name": "python3"
  },
  "language_info": {
   "codemirror_mode": {
    "name": "ipython",
    "version": 3
   },
   "file_extension": ".py",
   "mimetype": "text/x-python",
   "name": "python",
   "nbconvert_exporter": "python",
   "pygments_lexer": "ipython3",
   "version": "3.7.6"
  }
 },
 "nbformat": 4,
 "nbformat_minor": 4
}
