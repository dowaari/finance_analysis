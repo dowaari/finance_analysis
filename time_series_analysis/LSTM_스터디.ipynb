{
 "cells": [
  {
   "cell_type": "code",
   "execution_count": 1,
   "metadata": {},
   "outputs": [
    {
     "name": "stderr",
     "output_type": "stream",
     "text": [
      "'wget'은(는) 내부 또는 외부 명령, 실행할 수 있는 프로그램, 또는\n",
      "배치 파일이 아닙니다.\n"
     ]
    }
   ],
   "source": [
    "!wget https://s3.amazonaws.com/keras-datasets/jena_climate_2009_2016.csv.zip"
   ]
  },
  {
   "cell_type": "code",
   "execution_count": 1,
   "metadata": {},
   "outputs": [],
   "source": [
    "import numpy as np\n",
    "import pandas as pd\n",
    "import matplotlib.pyplot as plt"
   ]
  },
  {
   "cell_type": "code",
   "execution_count": 2,
   "metadata": {},
   "outputs": [
    {
     "data": {
      "text/html": [
       "<div>\n",
       "<style scoped>\n",
       "    .dataframe tbody tr th:only-of-type {\n",
       "        vertical-align: middle;\n",
       "    }\n",
       "\n",
       "    .dataframe tbody tr th {\n",
       "        vertical-align: top;\n",
       "    }\n",
       "\n",
       "    .dataframe thead th {\n",
       "        text-align: right;\n",
       "    }\n",
       "</style>\n",
       "<table border=\"1\" class=\"dataframe\">\n",
       "  <thead>\n",
       "    <tr style=\"text-align: right;\">\n",
       "      <th></th>\n",
       "      <th>Date Time</th>\n",
       "      <th>p (mbar)</th>\n",
       "      <th>T (degC)</th>\n",
       "      <th>Tpot (K)</th>\n",
       "      <th>Tdew (degC)</th>\n",
       "      <th>rh (%)</th>\n",
       "      <th>VPmax (mbar)</th>\n",
       "      <th>VPact (mbar)</th>\n",
       "      <th>VPdef (mbar)</th>\n",
       "      <th>sh (g/kg)</th>\n",
       "      <th>H2OC (mmol/mol)</th>\n",
       "      <th>rho (g/m**3)</th>\n",
       "      <th>wv (m/s)</th>\n",
       "      <th>max. wv (m/s)</th>\n",
       "      <th>wd (deg)</th>\n",
       "    </tr>\n",
       "  </thead>\n",
       "  <tbody>\n",
       "    <tr>\n",
       "      <th>0</th>\n",
       "      <td>01.01.2009 00:10:00</td>\n",
       "      <td>996.52</td>\n",
       "      <td>-8.02</td>\n",
       "      <td>265.40</td>\n",
       "      <td>-8.90</td>\n",
       "      <td>93.3</td>\n",
       "      <td>3.33</td>\n",
       "      <td>3.11</td>\n",
       "      <td>0.22</td>\n",
       "      <td>1.94</td>\n",
       "      <td>3.12</td>\n",
       "      <td>1307.75</td>\n",
       "      <td>1.03</td>\n",
       "      <td>1.75</td>\n",
       "      <td>152.3</td>\n",
       "    </tr>\n",
       "    <tr>\n",
       "      <th>1</th>\n",
       "      <td>01.01.2009 00:20:00</td>\n",
       "      <td>996.57</td>\n",
       "      <td>-8.41</td>\n",
       "      <td>265.01</td>\n",
       "      <td>-9.28</td>\n",
       "      <td>93.4</td>\n",
       "      <td>3.23</td>\n",
       "      <td>3.02</td>\n",
       "      <td>0.21</td>\n",
       "      <td>1.89</td>\n",
       "      <td>3.03</td>\n",
       "      <td>1309.80</td>\n",
       "      <td>0.72</td>\n",
       "      <td>1.50</td>\n",
       "      <td>136.1</td>\n",
       "    </tr>\n",
       "    <tr>\n",
       "      <th>2</th>\n",
       "      <td>01.01.2009 00:30:00</td>\n",
       "      <td>996.53</td>\n",
       "      <td>-8.51</td>\n",
       "      <td>264.91</td>\n",
       "      <td>-9.31</td>\n",
       "      <td>93.9</td>\n",
       "      <td>3.21</td>\n",
       "      <td>3.01</td>\n",
       "      <td>0.20</td>\n",
       "      <td>1.88</td>\n",
       "      <td>3.02</td>\n",
       "      <td>1310.24</td>\n",
       "      <td>0.19</td>\n",
       "      <td>0.63</td>\n",
       "      <td>171.6</td>\n",
       "    </tr>\n",
       "    <tr>\n",
       "      <th>3</th>\n",
       "      <td>01.01.2009 00:40:00</td>\n",
       "      <td>996.51</td>\n",
       "      <td>-8.31</td>\n",
       "      <td>265.12</td>\n",
       "      <td>-9.07</td>\n",
       "      <td>94.2</td>\n",
       "      <td>3.26</td>\n",
       "      <td>3.07</td>\n",
       "      <td>0.19</td>\n",
       "      <td>1.92</td>\n",
       "      <td>3.08</td>\n",
       "      <td>1309.19</td>\n",
       "      <td>0.34</td>\n",
       "      <td>0.50</td>\n",
       "      <td>198.0</td>\n",
       "    </tr>\n",
       "    <tr>\n",
       "      <th>4</th>\n",
       "      <td>01.01.2009 00:50:00</td>\n",
       "      <td>996.51</td>\n",
       "      <td>-8.27</td>\n",
       "      <td>265.15</td>\n",
       "      <td>-9.04</td>\n",
       "      <td>94.1</td>\n",
       "      <td>3.27</td>\n",
       "      <td>3.08</td>\n",
       "      <td>0.19</td>\n",
       "      <td>1.92</td>\n",
       "      <td>3.09</td>\n",
       "      <td>1309.00</td>\n",
       "      <td>0.32</td>\n",
       "      <td>0.63</td>\n",
       "      <td>214.3</td>\n",
       "    </tr>\n",
       "  </tbody>\n",
       "</table>\n",
       "</div>"
      ],
      "text/plain": [
       "             Date Time  p (mbar)  T (degC)  Tpot (K)  Tdew (degC)  rh (%)  \\\n",
       "0  01.01.2009 00:10:00    996.52     -8.02    265.40        -8.90    93.3   \n",
       "1  01.01.2009 00:20:00    996.57     -8.41    265.01        -9.28    93.4   \n",
       "2  01.01.2009 00:30:00    996.53     -8.51    264.91        -9.31    93.9   \n",
       "3  01.01.2009 00:40:00    996.51     -8.31    265.12        -9.07    94.2   \n",
       "4  01.01.2009 00:50:00    996.51     -8.27    265.15        -9.04    94.1   \n",
       "\n",
       "   VPmax (mbar)  VPact (mbar)  VPdef (mbar)  sh (g/kg)  H2OC (mmol/mol)  \\\n",
       "0          3.33          3.11          0.22       1.94             3.12   \n",
       "1          3.23          3.02          0.21       1.89             3.03   \n",
       "2          3.21          3.01          0.20       1.88             3.02   \n",
       "3          3.26          3.07          0.19       1.92             3.08   \n",
       "4          3.27          3.08          0.19       1.92             3.09   \n",
       "\n",
       "   rho (g/m**3)  wv (m/s)  max. wv (m/s)  wd (deg)  \n",
       "0       1307.75      1.03           1.75     152.3  \n",
       "1       1309.80      0.72           1.50     136.1  \n",
       "2       1310.24      0.19           0.63     171.6  \n",
       "3       1309.19      0.34           0.50     198.0  \n",
       "4       1309.00      0.32           0.63     214.3  "
      ]
     },
     "execution_count": 2,
     "metadata": {},
     "output_type": "execute_result"
    }
   ],
   "source": [
    "df_climate =pd.read_csv('./jena_climate_2009_2016.csv')\n",
    "df_climate.head()"
   ]
  },
  {
   "cell_type": "code",
   "execution_count": 3,
   "metadata": {},
   "outputs": [
    {
     "data": {
      "text/plain": [
       "Date Time          False\n",
       "p (mbar)           False\n",
       "T (degC)           False\n",
       "Tpot (K)           False\n",
       "Tdew (degC)        False\n",
       "rh (%)             False\n",
       "VPmax (mbar)       False\n",
       "VPact (mbar)       False\n",
       "VPdef (mbar)       False\n",
       "sh (g/kg)          False\n",
       "H2OC (mmol/mol)    False\n",
       "rho (g/m**3)       False\n",
       "wv (m/s)           False\n",
       "max. wv (m/s)      False\n",
       "wd (deg)           False\n",
       "dtype: bool"
      ]
     },
     "execution_count": 3,
     "metadata": {},
     "output_type": "execute_result"
    }
   ],
   "source": [
    "df_climate.isnull().any()"
   ]
  },
  {
   "cell_type": "code",
   "execution_count": 4,
   "metadata": {},
   "outputs": [
    {
     "name": "stdout",
     "output_type": "stream",
     "text": [
      "<class 'pandas.core.frame.DataFrame'>\n",
      "RangeIndex: 420551 entries, 0 to 420550\n",
      "Data columns (total 15 columns):\n",
      "Date Time          420551 non-null object\n",
      "p (mbar)           420551 non-null float64\n",
      "T (degC)           420551 non-null float64\n",
      "Tpot (K)           420551 non-null float64\n",
      "Tdew (degC)        420551 non-null float64\n",
      "rh (%)             420551 non-null float64\n",
      "VPmax (mbar)       420551 non-null float64\n",
      "VPact (mbar)       420551 non-null float64\n",
      "VPdef (mbar)       420551 non-null float64\n",
      "sh (g/kg)          420551 non-null float64\n",
      "H2OC (mmol/mol)    420551 non-null float64\n",
      "rho (g/m**3)       420551 non-null float64\n",
      "wv (m/s)           420551 non-null float64\n",
      "max. wv (m/s)      420551 non-null float64\n",
      "wd (deg)           420551 non-null float64\n",
      "dtypes: float64(14), object(1)\n",
      "memory usage: 48.1+ MB\n"
     ]
    }
   ],
   "source": [
    "df_climate.info()"
   ]
  },
  {
   "cell_type": "code",
   "execution_count": 5,
   "metadata": {},
   "outputs": [
    {
     "data": {
      "text/plain": [
       "Index(['Date Time', 'p (mbar)', 'T (degC)', 'Tpot (K)', 'Tdew (degC)',\n",
       "       'rh (%)', 'VPmax (mbar)', 'VPact (mbar)', 'VPdef (mbar)', 'sh (g/kg)',\n",
       "       'H2OC (mmol/mol)', 'rho (g/m**3)', 'wv (m/s)', 'max. wv (m/s)',\n",
       "       'wd (deg)'],\n",
       "      dtype='object')"
      ]
     },
     "execution_count": 5,
     "metadata": {},
     "output_type": "execute_result"
    }
   ],
   "source": [
    "df_climate.columns"
   ]
  },
  {
   "cell_type": "code",
   "execution_count": 6,
   "metadata": {},
   "outputs": [
    {
     "data": {
      "text/plain": [
       "0   -8.02\n",
       "1   -8.41\n",
       "2   -8.51\n",
       "3   -8.31\n",
       "4   -8.27\n",
       "Name: T (degC), dtype: float64"
      ]
     },
     "execution_count": 6,
     "metadata": {},
     "output_type": "execute_result"
    }
   ],
   "source": [
    "df_climate.iloc[:,2].head() # 온도"
   ]
  },
  {
   "cell_type": "code",
   "execution_count": 7,
   "metadata": {
    "scrolled": true
   },
   "outputs": [
    {
     "data": {
      "text/plain": [
       "<matplotlib.axes._subplots.AxesSubplot at 0x218022085c0>"
      ]
     },
     "execution_count": 7,
     "metadata": {},
     "output_type": "execute_result"
    },
    {
     "data": {
      "image/png": "[encoded data removed]",
      "text/plain": [
       "<Figure size 432x288 with 1 Axes>"
      ]
     },
     "metadata": {
      "needs_background": "light"
     },
     "output_type": "display_data"
    }
   ],
   "source": [
    "df_climate[df_climate.columns[2]].plot()"
   ]
  },
  {
   "cell_type": "code",
   "execution_count": 8,
   "metadata": {},
   "outputs": [
    {
     "data": {
      "text/plain": [
       "<matplotlib.axes._subplots.AxesSubplot at 0x21802b80cf8>"
      ]
     },
     "execution_count": 8,
     "metadata": {},
     "output_type": "execute_result"
    },
    {
     "data": {
      "image/png": "[encoded data removed]",
      "text/plain": [
       "<Figure size 432x288 with 1 Axes>"
      ]
     },
     "metadata": {
      "needs_background": "light"
     },
     "output_type": "display_data"
    }
   ],
   "source": [
    "df_climate.iloc[:1440,2].plot() #처음 10일간 온도데이터"
   ]
  },
  {
   "cell_type": "code",
   "execution_count": 26,
   "metadata": {},
   "outputs": [
    {
     "data": {
      "text/html": [
       "<div>\n",
       "<style scoped>\n",
       "    .dataframe tbody tr th:only-of-type {\n",
       "        vertical-align: middle;\n",
       "    }\n",
       "\n",
       "    .dataframe tbody tr th {\n",
       "        vertical-align: top;\n",
       "    }\n",
       "\n",
       "    .dataframe thead th {\n",
       "        text-align: right;\n",
       "    }\n",
       "</style>\n",
       "<table border=\"1\" class=\"dataframe\">\n",
       "  <thead>\n",
       "    <tr style=\"text-align: right;\">\n",
       "      <th></th>\n",
       "      <th>p (mbar)</th>\n",
       "      <th>T (degC)</th>\n",
       "      <th>Tpot (K)</th>\n",
       "      <th>Tdew (degC)</th>\n",
       "      <th>rh (%)</th>\n",
       "      <th>VPmax (mbar)</th>\n",
       "      <th>VPact (mbar)</th>\n",
       "      <th>VPdef (mbar)</th>\n",
       "      <th>sh (g/kg)</th>\n",
       "      <th>H2OC (mmol/mol)</th>\n",
       "      <th>rho (g/m**3)</th>\n",
       "      <th>wv (m/s)</th>\n",
       "      <th>max. wv (m/s)</th>\n",
       "      <th>wd (deg)</th>\n",
       "    </tr>\n",
       "  </thead>\n",
       "  <tbody>\n",
       "    <tr>\n",
       "      <th>0</th>\n",
       "      <td>996.52</td>\n",
       "      <td>-8.02</td>\n",
       "      <td>265.40</td>\n",
       "      <td>-8.90</td>\n",
       "      <td>93.3</td>\n",
       "      <td>3.33</td>\n",
       "      <td>3.11</td>\n",
       "      <td>0.22</td>\n",
       "      <td>1.94</td>\n",
       "      <td>3.12</td>\n",
       "      <td>1307.75</td>\n",
       "      <td>1.03</td>\n",
       "      <td>1.75</td>\n",
       "      <td>152.3</td>\n",
       "    </tr>\n",
       "    <tr>\n",
       "      <th>1</th>\n",
       "      <td>996.57</td>\n",
       "      <td>-8.41</td>\n",
       "      <td>265.01</td>\n",
       "      <td>-9.28</td>\n",
       "      <td>93.4</td>\n",
       "      <td>3.23</td>\n",
       "      <td>3.02</td>\n",
       "      <td>0.21</td>\n",
       "      <td>1.89</td>\n",
       "      <td>3.03</td>\n",
       "      <td>1309.80</td>\n",
       "      <td>0.72</td>\n",
       "      <td>1.50</td>\n",
       "      <td>136.1</td>\n",
       "    </tr>\n",
       "  </tbody>\n",
       "</table>\n",
       "</div>"
      ],
      "text/plain": [
       "   p (mbar)  T (degC)  Tpot (K)  Tdew (degC)  rh (%)  VPmax (mbar)  \\\n",
       "0    996.52     -8.02    265.40        -8.90    93.3          3.33   \n",
       "1    996.57     -8.41    265.01        -9.28    93.4          3.23   \n",
       "\n",
       "   VPact (mbar)  VPdef (mbar)  sh (g/kg)  H2OC (mmol/mol)  rho (g/m**3)  \\\n",
       "0          3.11          0.22       1.94             3.12       1307.75   \n",
       "1          3.02          0.21       1.89             3.03       1309.80   \n",
       "\n",
       "   wv (m/s)  max. wv (m/s)  wd (deg)  \n",
       "0      1.03           1.75     152.3  \n",
       "1      0.72           1.50     136.1  "
      ]
     },
     "execution_count": 26,
     "metadata": {},
     "output_type": "execute_result"
    }
   ],
   "source": [
    "#i for i in df.colunms if in 'apple'\n",
    "#[col for col in df_climate.columns if not in 'Date']\n",
    "df_climate.iloc[:2, 1:]"
   ]
  },
  {
   "cell_type": "code",
   "execution_count": 27,
   "metadata": {},
   "outputs": [],
   "source": [
    "# 총 42만개중 20만개 train, 10만개 valid, 나머지 test\n",
    "train_num = 200000\n",
    "valid_num = 100000\n",
    "df_scaled = df_climate.iloc[:,1:].copy() # Date 제외\n",
    "\n",
    "mean = df_climate.iloc[:train_num, 1:].mean(axis=0)\n",
    "df_scaled -= mean\n",
    "std = df_climate.iloc[:train_num, 1:].std(axis=0)\n",
    "df_scaled /= std"
   ]
  },
  {
   "cell_type": "code",
   "execution_count": 28,
   "metadata": {},
   "outputs": [
    {
     "data": {
      "text/html": [
       "<div>\n",
       "<style scoped>\n",
       "    .dataframe tbody tr th:only-of-type {\n",
       "        vertical-align: middle;\n",
       "    }\n",
       "\n",
       "    .dataframe tbody tr th {\n",
       "        vertical-align: top;\n",
       "    }\n",
       "\n",
       "    .dataframe thead th {\n",
       "        text-align: right;\n",
       "    }\n",
       "</style>\n",
       "<table border=\"1\" class=\"dataframe\">\n",
       "  <thead>\n",
       "    <tr style=\"text-align: right;\">\n",
       "      <th></th>\n",
       "      <th>p (mbar)</th>\n",
       "      <th>T (degC)</th>\n",
       "      <th>Tpot (K)</th>\n",
       "      <th>Tdew (degC)</th>\n",
       "      <th>rh (%)</th>\n",
       "      <th>VPmax (mbar)</th>\n",
       "      <th>VPact (mbar)</th>\n",
       "      <th>VPdef (mbar)</th>\n",
       "      <th>sh (g/kg)</th>\n",
       "      <th>H2OC (mmol/mol)</th>\n",
       "      <th>rho (g/m**3)</th>\n",
       "      <th>wv (m/s)</th>\n",
       "      <th>max. wv (m/s)</th>\n",
       "      <th>wd (deg)</th>\n",
       "    </tr>\n",
       "  </thead>\n",
       "  <tbody>\n",
       "    <tr>\n",
       "      <th>0</th>\n",
       "      <td>0.900145</td>\n",
       "      <td>-1.931354</td>\n",
       "      <td>-1.982105</td>\n",
       "      <td>-1.862796</td>\n",
       "      <td>1.072850</td>\n",
       "      <td>-1.307418</td>\n",
       "      <td>-1.473754</td>\n",
       "      <td>-0.798684</td>\n",
       "      <td>-1.476264</td>\n",
       "      <td>-1.478152</td>\n",
       "      <td>2.123745</td>\n",
       "      <td>-0.729503</td>\n",
       "      <td>-0.780678</td>\n",
       "      <td>-0.276135</td>\n",
       "    </tr>\n",
       "    <tr>\n",
       "      <th>1</th>\n",
       "      <td>0.906041</td>\n",
       "      <td>-1.975409</td>\n",
       "      <td>-2.025665</td>\n",
       "      <td>-1.915825</td>\n",
       "      <td>1.078828</td>\n",
       "      <td>-1.320424</td>\n",
       "      <td>-1.495192</td>\n",
       "      <td>-0.800750</td>\n",
       "      <td>-1.495021</td>\n",
       "      <td>-1.499318</td>\n",
       "      <td>2.171993</td>\n",
       "      <td>-0.931238</td>\n",
       "      <td>-0.887943</td>\n",
       "      <td>-0.463173</td>\n",
       "    </tr>\n",
       "    <tr>\n",
       "      <th>2</th>\n",
       "      <td>0.901324</td>\n",
       "      <td>-1.986705</td>\n",
       "      <td>-2.036834</td>\n",
       "      <td>-1.920011</td>\n",
       "      <td>1.108719</td>\n",
       "      <td>-1.323025</td>\n",
       "      <td>-1.497574</td>\n",
       "      <td>-0.802816</td>\n",
       "      <td>-1.498772</td>\n",
       "      <td>-1.501669</td>\n",
       "      <td>2.182349</td>\n",
       "      <td>-1.276140</td>\n",
       "      <td>-1.261224</td>\n",
       "      <td>-0.053306</td>\n",
       "    </tr>\n",
       "    <tr>\n",
       "      <th>3</th>\n",
       "      <td>0.898966</td>\n",
       "      <td>-1.964113</td>\n",
       "      <td>-2.013379</td>\n",
       "      <td>-1.886519</td>\n",
       "      <td>1.126654</td>\n",
       "      <td>-1.316522</td>\n",
       "      <td>-1.483282</td>\n",
       "      <td>-0.804882</td>\n",
       "      <td>-1.483767</td>\n",
       "      <td>-1.487559</td>\n",
       "      <td>2.157636</td>\n",
       "      <td>-1.178526</td>\n",
       "      <td>-1.317002</td>\n",
       "      <td>0.251496</td>\n",
       "    </tr>\n",
       "    <tr>\n",
       "      <th>4</th>\n",
       "      <td>0.898966</td>\n",
       "      <td>-1.959594</td>\n",
       "      <td>-2.010028</td>\n",
       "      <td>-1.882333</td>\n",
       "      <td>1.120676</td>\n",
       "      <td>-1.315222</td>\n",
       "      <td>-1.480900</td>\n",
       "      <td>-0.804882</td>\n",
       "      <td>-1.483767</td>\n",
       "      <td>-1.485207</td>\n",
       "      <td>2.153165</td>\n",
       "      <td>-1.191541</td>\n",
       "      <td>-1.261224</td>\n",
       "      <td>0.439689</td>\n",
       "    </tr>\n",
       "  </tbody>\n",
       "</table>\n",
       "</div>"
      ],
      "text/plain": [
       "   p (mbar)  T (degC)  Tpot (K)  Tdew (degC)    rh (%)  VPmax (mbar)  \\\n",
       "0  0.900145 -1.931354 -1.982105    -1.862796  1.072850     -1.307418   \n",
       "1  0.906041 -1.975409 -2.025665    -1.915825  1.078828     -1.320424   \n",
       "2  0.901324 -1.986705 -2.036834    -1.920011  1.108719     -1.323025   \n",
       "3  0.898966 -1.964113 -2.013379    -1.886519  1.126654     -1.316522   \n",
       "4  0.898966 -1.959594 -2.010028    -1.882333  1.120676     -1.315222   \n",
       "\n",
       "   VPact (mbar)  VPdef (mbar)  sh (g/kg)  H2OC (mmol/mol)  rho (g/m**3)  \\\n",
       "0     -1.473754     -0.798684  -1.476264        -1.478152      2.123745   \n",
       "1     -1.495192     -0.800750  -1.495021        -1.499318      2.171993   \n",
       "2     -1.497574     -0.802816  -1.498772        -1.501669      2.182349   \n",
       "3     -1.483282     -0.804882  -1.483767        -1.487559      2.157636   \n",
       "4     -1.480900     -0.804882  -1.483767        -1.485207      2.153165   \n",
       "\n",
       "   wv (m/s)  max. wv (m/s)  wd (deg)  \n",
       "0 -0.729503      -0.780678 -0.276135  \n",
       "1 -0.931238      -0.887943 -0.463173  \n",
       "2 -1.276140      -1.261224 -0.053306  \n",
       "3 -1.178526      -1.317002  0.251496  \n",
       "4 -1.191541      -1.261224  0.439689  "
      ]
     },
     "execution_count": 28,
     "metadata": {},
     "output_type": "execute_result"
    }
   ],
   "source": [
    "df_scaled.head()"
   ]
  },
  {
   "cell_type": "code",
   "execution_count": 30,
   "metadata": {},
   "outputs": [
    {
     "data": {
      "text/html": [
       "<div>\n",
       "<style scoped>\n",
       "    .dataframe tbody tr th:only-of-type {\n",
       "        vertical-align: middle;\n",
       "    }\n",
       "\n",
       "    .dataframe tbody tr th {\n",
       "        vertical-align: top;\n",
       "    }\n",
       "\n",
       "    .dataframe thead th {\n",
       "        text-align: right;\n",
       "    }\n",
       "</style>\n",
       "<table border=\"1\" class=\"dataframe\">\n",
       "  <thead>\n",
       "    <tr style=\"text-align: right;\">\n",
       "      <th></th>\n",
       "      <th>p (mbar)</th>\n",
       "      <th>T (degC)</th>\n",
       "      <th>Tpot (K)</th>\n",
       "      <th>Tdew (degC)</th>\n",
       "      <th>rh (%)</th>\n",
       "      <th>VPmax (mbar)</th>\n",
       "      <th>VPact (mbar)</th>\n",
       "      <th>VPdef (mbar)</th>\n",
       "      <th>sh (g/kg)</th>\n",
       "      <th>H2OC (mmol/mol)</th>\n",
       "      <th>rho (g/m**3)</th>\n",
       "      <th>wv (m/s)</th>\n",
       "      <th>max. wv (m/s)</th>\n",
       "      <th>wd (deg)</th>\n",
       "    </tr>\n",
       "  </thead>\n",
       "  <tbody>\n",
       "    <tr>\n",
       "      <th>count</th>\n",
       "      <td>420551.000000</td>\n",
       "      <td>420551.000000</td>\n",
       "      <td>420551.000000</td>\n",
       "      <td>420551.000000</td>\n",
       "      <td>420551.000000</td>\n",
       "      <td>420551.000000</td>\n",
       "      <td>420551.000000</td>\n",
       "      <td>420551.000000</td>\n",
       "      <td>420551.000000</td>\n",
       "      <td>420551.000000</td>\n",
       "      <td>420551.000000</td>\n",
       "      <td>420551.000000</td>\n",
       "      <td>420551.000000</td>\n",
       "      <td>420551.000000</td>\n",
       "    </tr>\n",
       "    <tr>\n",
       "      <th>mean</th>\n",
       "      <td>0.038491</td>\n",
       "      <td>0.042112</td>\n",
       "      <td>0.038693</td>\n",
       "      <td>0.070795</td>\n",
       "      <td>0.039110</td>\n",
       "      <td>0.025139</td>\n",
       "      <td>0.056407</td>\n",
       "      <td>-0.008988</td>\n",
       "      <td>0.055220</td>\n",
       "      <td>0.055270</td>\n",
       "      <td>-0.034163</td>\n",
       "      <td>-0.292047</td>\n",
       "      <td>-0.220088</td>\n",
       "      <td>-0.017010</td>\n",
       "    </tr>\n",
       "    <tr>\n",
       "      <th>std</th>\n",
       "      <td>0.985617</td>\n",
       "      <td>0.951522</td>\n",
       "      <td>0.949874</td>\n",
       "      <td>0.939269</td>\n",
       "      <td>0.984984</td>\n",
       "      <td>1.006484</td>\n",
       "      <td>0.996682</td>\n",
       "      <td>1.011672</td>\n",
       "      <td>0.996430</td>\n",
       "      <td>0.996077</td>\n",
       "      <td>0.940838</td>\n",
       "      <td>42.590006</td>\n",
       "      <td>29.612374</td>\n",
       "      <td>1.000788</td>\n",
       "    </tr>\n",
       "    <tr>\n",
       "      <th>min</th>\n",
       "      <td>-8.877632</td>\n",
       "      <td>-3.624657</td>\n",
       "      <td>-3.635134</td>\n",
       "      <td>-4.110953</td>\n",
       "      <td>-3.730658</td>\n",
       "      <td>-1.616945</td>\n",
       "      <td>-2.026386</td>\n",
       "      <td>-0.844136</td>\n",
       "      <td>-2.016468</td>\n",
       "      <td>-2.023768</td>\n",
       "      <td>-3.720127</td>\n",
       "      <td>-6508.334156</td>\n",
       "      <td>-4291.697971</td>\n",
       "      <td>-2.034523</td>\n",
       "    </tr>\n",
       "    <tr>\n",
       "      <th>25%</th>\n",
       "      <td>-0.552607</td>\n",
       "      <td>-0.645844</td>\n",
       "      <td>-0.638461</td>\n",
       "      <td>-0.587305</td>\n",
       "      <td>-0.606435</td>\n",
       "      <td>-0.728682</td>\n",
       "      <td>-0.735323</td>\n",
       "      <td>-0.664397</td>\n",
       "      <td>-0.733482</td>\n",
       "      <td>-0.732633</td>\n",
       "      <td>-0.706638</td>\n",
       "      <td>-0.755533</td>\n",
       "      <td>-0.776387</td>\n",
       "      <td>-0.592483</td>\n",
       "    </tr>\n",
       "    <tr>\n",
       "      <th>50%</th>\n",
       "      <td>0.081793</td>\n",
       "      <td>0.038707</td>\n",
       "      <td>0.036153</td>\n",
       "      <td>0.107657</td>\n",
       "      <td>0.235897</td>\n",
       "      <td>-0.203267</td>\n",
       "      <td>-0.104084</td>\n",
       "      <td>-0.391690</td>\n",
       "      <td>-0.106995</td>\n",
       "      <td>-0.104704</td>\n",
       "      <td>-0.087653</td>\n",
       "      <td>-0.254449</td>\n",
       "      <td>-0.261516</td>\n",
       "      <td>0.252651</td>\n",
       "    </tr>\n",
       "    <tr>\n",
       "      <th>75%</th>\n",
       "      <td>0.687892</td>\n",
       "      <td>0.722128</td>\n",
       "      <td>0.713001</td>\n",
       "      <td>0.784476</td>\n",
       "      <td>0.839699</td>\n",
       "      <td>0.548440</td>\n",
       "      <td>0.727246</td>\n",
       "      <td>0.250825</td>\n",
       "      <td>0.722070</td>\n",
       "      <td>0.725479</td>\n",
       "      <td>0.594406</td>\n",
       "      <td>0.461385</td>\n",
       "      <td>0.502210</td>\n",
       "      <td>0.668291</td>\n",
       "    </tr>\n",
       "    <tr>\n",
       "      <th>max</th>\n",
       "      <td>3.120545</td>\n",
       "      <td>3.185833</td>\n",
       "      <td>3.148984</td>\n",
       "      <td>2.604214</td>\n",
       "      <td>1.473391</td>\n",
       "      <td>6.552993</td>\n",
       "      <td>4.531355</td>\n",
       "      <td>8.661363</td>\n",
       "      <td>4.597288</td>\n",
       "      <td>4.565957</td>\n",
       "      <td>4.142858</td>\n",
       "      <td>17.140326</td>\n",
       "      <td>8.551367</td>\n",
       "      <td>2.121876</td>\n",
       "    </tr>\n",
       "  </tbody>\n",
       "</table>\n",
       "</div>"
      ],
      "text/plain": [
       "            p (mbar)       T (degC)       Tpot (K)    Tdew (degC)  \\\n",
       "count  420551.000000  420551.000000  420551.000000  420551.000000   \n",
       "mean        0.038491       0.042112       0.038693       0.070795   \n",
       "std         0.985617       0.951522       0.949874       0.939269   \n",
       "min        -8.877632      -3.624657      -3.635134      -4.110953   \n",
       "25%        -0.552607      -0.645844      -0.638461      -0.587305   \n",
       "50%         0.081793       0.038707       0.036153       0.107657   \n",
       "75%         0.687892       0.722128       0.713001       0.784476   \n",
       "max         3.120545       3.185833       3.148984       2.604214   \n",
       "\n",
       "              rh (%)   VPmax (mbar)   VPact (mbar)   VPdef (mbar)  \\\n",
       "count  420551.000000  420551.000000  420551.000000  420551.000000   \n",
       "mean        0.039110       0.025139       0.056407      -0.008988   \n",
       "std         0.984984       1.006484       0.996682       1.011672   \n",
       "min        -3.730658      -1.616945      -2.026386      -0.844136   \n",
       "25%        -0.606435      -0.728682      -0.735323      -0.664397   \n",
       "50%         0.235897      -0.203267      -0.104084      -0.391690   \n",
       "75%         0.839699       0.548440       0.727246       0.250825   \n",
       "max         1.473391       6.552993       4.531355       8.661363   \n",
       "\n",
       "           sh (g/kg)  H2OC (mmol/mol)   rho (g/m**3)       wv (m/s)  \\\n",
       "count  420551.000000    420551.000000  420551.000000  420551.000000   \n",
       "mean        0.055220         0.055270      -0.034163      -0.292047   \n",
       "std         0.996430         0.996077       0.940838      42.590006   \n",
       "min        -2.016468        -2.023768      -3.720127   -6508.334156   \n",
       "25%        -0.733482        -0.732633      -0.706638      -0.755533   \n",
       "50%        -0.106995        -0.104704      -0.087653      -0.254449   \n",
       "75%         0.722070         0.725479       0.594406       0.461385   \n",
       "max         4.597288         4.565957       4.142858      17.140326   \n",
       "\n",
       "       max. wv (m/s)       wd (deg)  \n",
       "count  420551.000000  420551.000000  \n",
       "mean       -0.220088      -0.017010  \n",
       "std        29.612374       1.000788  \n",
       "min     -4291.697971      -2.034523  \n",
       "25%        -0.776387      -0.592483  \n",
       "50%        -0.261516       0.252651  \n",
       "75%         0.502210       0.668291  \n",
       "max         8.551367       2.121876  "
      ]
     },
     "execution_count": 30,
     "metadata": {},
     "output_type": "execute_result"
    }
   ],
   "source": [
    "df_scaled.describe()"
   ]
  },
  {
   "cell_type": "code",
   "execution_count": 63,
   "metadata": {},
   "outputs": [
    {
     "data": {
      "text/plain": [
       "(420551, 14)"
      ]
     },
     "execution_count": 63,
     "metadata": {},
     "output_type": "execute_result"
    }
   ],
   "source": [
    "df_scaled.shape"
   ]
  },
  {
   "cell_type": "code",
   "execution_count": 64,
   "metadata": {},
   "outputs": [
    {
     "data": {
      "text/plain": [
       "array([[ 0.90014522, -1.93135363, -1.98210541, ..., -0.7295027 ,\n",
       "        -0.78067778, -0.27613534],\n",
       "       [ 0.90604113, -1.97540887, -2.02566494, ..., -0.93123784,\n",
       "        -0.88794266, -0.46317327],\n",
       "       [ 0.90132441, -1.98670509, -2.03683405, ..., -1.27613985,\n",
       "        -1.26122447, -0.0533062 ],\n",
       "       ...,\n",
       "       [ 1.28927529, -1.38235748, -1.4672094 , ..., -0.69696478,\n",
       "        -0.67341289,  0.45007984],\n",
       "       [ 1.2880961 , -1.503227  , -1.58671889, ..., -0.43015378,\n",
       "        -0.60476336,  0.57246269],\n",
       "       [ 1.28927529, -1.56987468, -1.65149973, ..., -0.599351  ,\n",
       "        -0.69057527,  0.10024964]])"
      ]
     },
     "execution_count": 64,
     "metadata": {},
     "output_type": "execute_result"
    }
   ],
   "source": [
    "df_scaled.values"
   ]
  },
  {
   "cell_type": "code",
   "execution_count": null,
   "metadata": {},
   "outputs": [],
   "source": [
    "# 입력: lookback 1440 (10일, 10*24*6) , 10일 동안의 데이터를 가지고\n",
    "# 출력: dalay 144 (1일, 24*6), 1일뒤의 온도를 예측한다.\n",
    "# step: 데이터 샘플링 간격 6 (1시간에 하나의 데이터 포인트만 추출)"
   ]
  },
  {
   "cell_type": "code",
   "execution_count": 94,
   "metadata": {},
   "outputs": [],
   "source": [
    "def generator(data, lookback, delay, min_index, max_index, shuffle= False, batch_size= 128, step=6):\n",
    "    \n",
    "    if max_index is None:\n",
    "        max_index= len(data)-delay-1\n",
    "    i= min_index+lookback\n",
    "    \n",
    "    while 1:\n",
    "        \n",
    "        if shuffle:\n",
    "            rows= np.random.randint(min_index+lookback, max_index, size=batch_size)\n",
    "        else:\n",
    "            if i+batch_size >= max_index:\n",
    "                i= min_index+lookback\n",
    "            rows= np.arange(i, min(i+batch_size, max_index))\n",
    "            i += len(rows)\n",
    "        \n",
    "        samples= np.zeros((len(rows), lookback//step, data.shape[-1]))\n",
    "        targets= np.zeros((len(rows),))\n",
    "        \n",
    "        for j, row in enumerate(rows):\n",
    "            indices= range(rows[j]- lookback, rows[j], step)\n",
    "            samples[j]= data[indices]\n",
    "            targets[j]= data[rows[j]+delay][1]\n",
    "        \n",
    "        yield samples, targets\n"
   ]
  },
  {
   "cell_type": "code",
   "execution_count": 99,
   "metadata": {},
   "outputs": [],
   "source": [
    "lookback= 1440\n",
    "step= 6\n",
    "delay= 144\n",
    "batch_size= 128\n",
    "train_gen= generator(df_scaled.values, lookback= lookback, delay= delay,\n",
    "                   min_index=0, max_index= 200000, shuffle= True, step= step, batch_size=batch_size)\n",
    "val_gen= generator(df_scaled.values, lookback= lookback, delay= delay,\n",
    "                   min_index=200001, max_index= 300000, step= step, batch_size=batch_size)\n",
    "test_gen= generator(df_scaled.values, lookback= lookback, delay= delay,\n",
    "                   min_index=300001, max_index= None, step= step, batch_size=batch_size)\n",
    "\n",
    "val_steps= (300000-200001-lookback)//batch_size\n",
    "test_steps= (len(df_scaled)-300001-lookback)//batch_size\n"
   ]
  },
  {
   "cell_type": "code",
   "execution_count": null,
   "metadata": {},
   "outputs": [],
   "source": [
    "# for samples, targets in train_gen:\n",
    "#     print(samples)\n",
    "#     print(targets)\n",
    "#     break"
   ]
  },
  {
   "cell_type": "code",
   "execution_count": 67,
   "metadata": {},
   "outputs": [
    {
     "name": "stdout",
     "output_type": "stream",
     "text": [
      "0.28973524864971095\n"
     ]
    }
   ],
   "source": [
    "def evaluate_baseline_model():\n",
    "    batch_maes = []\n",
    "    for step in range(val_steps):\n",
    "        samples, targets = next(val_gen)\n",
    "        preds = samples[:, -1, 1]\n",
    "        mae = np.mean(np.abs(preds - targets)) # MAE\n",
    "        batch_maes.append(mae)\n",
    "    print(np.mean(batch_maes))\n",
    "\n",
    "evaluate_baseline_model()\n",
    "# 0.289"
   ]
  },
  {
   "cell_type": "code",
   "execution_count": 98,
   "metadata": {},
   "outputs": [
    {
     "data": {
      "text/plain": [
       "1551"
      ]
     },
     "execution_count": 98,
     "metadata": {},
     "output_type": "execute_result"
    }
   ],
   "source": [
    "(200000-lookback)//batch_size"
   ]
  },
  {
   "cell_type": "code",
   "execution_count": 103,
   "metadata": {},
   "outputs": [
    {
     "name": "stdout",
     "output_type": "stream",
     "text": [
      "_________________________________________________________________\n",
      "Layer (type)                 Output Shape              Param #   \n",
      "=================================================================\n",
      "flatten_1 (Flatten)          (None, 3360)              0         \n",
      "_________________________________________________________________\n",
      "dense_1 (Dense)              (None, 32)                107552    \n",
      "_________________________________________________________________\n",
      "dense_2 (Dense)              (None, 1)                 33        \n",
      "=================================================================\n",
      "Total params: 107,585\n",
      "Trainable params: 107,585\n",
      "Non-trainable params: 0\n",
      "_________________________________________________________________\n"
     ]
    }
   ],
   "source": [
    "import keras\n",
    "from keras.models import Sequential\n",
    "from keras.layers import Flatten, Dense\n",
    "from keras.optimizers import RMSprop\n",
    "\n",
    "keras.backend.clear_session()\n",
    "\n",
    "model= Sequential()\n",
    "model.add(Flatten(input_shape=(lookback // step, df_scaled.shape[-1]))) # 입력값 (240, 14)\n",
    "model.add(Dense(32, activation='relu')) \n",
    "model.add(Dense(1))\n",
    "model.compile(optimizer=RMSprop(), loss='mae') # 회귀\n",
    "model.summary()\n"
   ]
  },
  {
   "cell_type": "code",
   "execution_count": 104,
   "metadata": {},
   "outputs": [
    {
     "name": "stdout",
     "output_type": "stream",
     "text": [
      "Epoch 1/20\n",
      "500/500 [==============================] - 19s 38ms/step - loss: 1.7195 - val_loss: 0.9327\n",
      "Epoch 2/20\n",
      "500/500 [==============================] - 20s 40ms/step - loss: 0.6337 - val_loss: 0.3293\n",
      "Epoch 3/20\n",
      "500/500 [==============================] - 22s 44ms/step - loss: 0.3306 - val_loss: 0.3155\n",
      "Epoch 4/20\n",
      "500/500 [==============================] - 19s 39ms/step - loss: 0.2773 - val_loss: 0.3337\n",
      "Epoch 5/20\n",
      "500/500 [==============================] - 18s 36ms/step - loss: 0.2606 - val_loss: 0.3116\n",
      "Epoch 6/20\n",
      "500/500 [==============================] - 17s 34ms/step - loss: 0.2505 - val_loss: 0.3117\n",
      "Epoch 7/20\n",
      "500/500 [==============================] - 17s 35ms/step - loss: 0.2435 - val_loss: 0.3058\n",
      "Epoch 8/20\n",
      "500/500 [==============================] - 17s 34ms/step - loss: 0.2358 - val_loss: 0.3164\n",
      "Epoch 9/20\n",
      "500/500 [==============================] - 16s 33ms/step - loss: 0.2325 - val_loss: 0.3264\n",
      "Epoch 10/20\n",
      "500/500 [==============================] - 18s 35ms/step - loss: 0.2269 - val_loss: 0.3310\n",
      "Epoch 11/20\n",
      "500/500 [==============================] - 17s 35ms/step - loss: 0.2222 - val_loss: 0.3627\n",
      "Epoch 12/20\n",
      "500/500 [==============================] - 17s 33ms/step - loss: 0.2194 - val_loss: 0.3565\n",
      "Epoch 13/20\n",
      "500/500 [==============================] - 17s 34ms/step - loss: 0.2165 - val_loss: 0.3472\n",
      "Epoch 14/20\n",
      "500/500 [==============================] - 17s 33ms/step - loss: 0.2135 - val_loss: 0.3182\n",
      "Epoch 15/20\n",
      "500/500 [==============================] - 16s 33ms/step - loss: 0.2115 - val_loss: 0.3331\n",
      "Epoch 16/20\n",
      "500/500 [==============================] - 17s 33ms/step - loss: 0.2076 - val_loss: 0.3379\n",
      "Epoch 17/20\n",
      "500/500 [==============================] - 17s 33ms/step - loss: 0.2058 - val_loss: 0.3235\n",
      "Epoch 18/20\n",
      "500/500 [==============================] - 17s 35ms/step - loss: 0.2043 - val_loss: 0.3428\n",
      "Epoch 19/20\n",
      "500/500 [==============================] - 17s 34ms/step - loss: 0.2019 - val_loss: 0.3470\n",
      "Epoch 20/20\n",
      "500/500 [==============================] - 16s 33ms/step - loss: 0.2016 - val_loss: 0.3263\n"
     ]
    }
   ],
   "source": [
    "history= model.fit_generator(train_gen, steps_per_epoch= 500, epochs= 20, validation_data= val_gen, validation_steps= val_steps)"
   ]
  },
  {
   "cell_type": "code",
   "execution_count": 105,
   "metadata": {},
   "outputs": [
    {
     "data": {
      "image/png": "[encoded data removed]",
      "text/plain": [
       "<Figure size 432x288 with 1 Axes>"
      ]
     },
     "metadata": {
      "needs_background": "light"
     },
     "output_type": "display_data"
    }
   ],
   "source": [
    "#acc = history.history['acc']\n",
    "#val_acc = history.history['val_acc']\n",
    "loss = history.history['loss']\n",
    "val_loss = history.history['val_loss']\n",
    "\n",
    "epochs = range(1, len(loss) + 1)\n",
    "\n",
    "# plt.plot(epochs, acc, 'bo', label='Training acc')\n",
    "# plt.plot(epochs, val_acc, 'b', label='Validation acc')\n",
    "# plt.title('Training and validation accuracy')\n",
    "# plt.legend()\n",
    "\n",
    "plt.figure()\n",
    "\n",
    "plt.plot(epochs, loss, 'bo', label='Training loss')\n",
    "plt.plot(epochs, val_loss, 'b', label='Validation loss')\n",
    "plt.title('Training and validation loss')\n",
    "plt.legend()\n",
    "\n",
    "plt.show()"
   ]
  },
  {
   "cell_type": "code",
   "execution_count": 107,
   "metadata": {},
   "outputs": [
    {
     "name": "stdout",
     "output_type": "stream",
     "text": [
      "_________________________________________________________________\n",
      "Layer (type)                 Output Shape              Param #   \n",
      "=================================================================\n",
      "gru_1 (GRU)                  (None, 32)                4512      \n",
      "_________________________________________________________________\n",
      "dense_1 (Dense)              (None, 1)                 33        \n",
      "=================================================================\n",
      "Total params: 4,545\n",
      "Trainable params: 4,545\n",
      "Non-trainable params: 0\n",
      "_________________________________________________________________\n"
     ]
    }
   ],
   "source": [
    "from keras import layers\n",
    "\n",
    "keras.backend.clear_session()\n",
    "\n",
    "model= Sequential()\n",
    "# model.add(Flatten(input_shape=(lookback // step, df_scaled.shape[-1]))) # 입력값 (240, 14)\n",
    "# model.add(Dense(32, activation='relu')) \n",
    "\n",
    "model.add(layers.GRU(32, input_shape=(None, df_scaled.shape[-1])))\n",
    "model.add(Dense(1))\n",
    "model.compile(optimizer=RMSprop(), loss='mae') # 회귀\n",
    "model.summary()\n"
   ]
  },
  {
   "cell_type": "code",
   "execution_count": 108,
   "metadata": {},
   "outputs": [
    {
     "name": "stdout",
     "output_type": "stream",
     "text": [
      "Epoch 1/20\n",
      "500/500 [==============================] - 103s 207ms/step - loss: 0.2986 - val_loss: 0.2674\n",
      "Epoch 2/20\n",
      "500/500 [==============================] - 102s 205ms/step - loss: 0.2839 - val_loss: 0.2687\n",
      "Epoch 3/20\n",
      "500/500 [==============================] - 102s 205ms/step - loss: 0.2783 - val_loss: 0.2669\n",
      "Epoch 4/20\n",
      "500/500 [==============================] - 111s 221ms/step - loss: 0.2720 - val_loss: 0.2639\n",
      "Epoch 5/20\n",
      "500/500 [==============================] - 109s 219ms/step - loss: 0.2683 - val_loss: 0.2741\n",
      "Epoch 6/20\n",
      "500/500 [==============================] - 104s 209ms/step - loss: 0.2654 - val_loss: 0.2648\n",
      "Epoch 7/20\n",
      "500/500 [==============================] - 105s 210ms/step - loss: 0.2599 - val_loss: 0.2661\n",
      "Epoch 8/20\n",
      "500/500 [==============================] - 105s 209ms/step - loss: 0.2569 - val_loss: 0.2686\n",
      "Epoch 9/20\n",
      "500/500 [==============================] - 109s 218ms/step - loss: 0.2535 - val_loss: 0.2672\n",
      "Epoch 10/20\n",
      "500/500 [==============================] - 101s 202ms/step - loss: 0.2489 - val_loss: 0.2699\n",
      "Epoch 11/20\n",
      "500/500 [==============================] - 101s 203ms/step - loss: 0.2443 - val_loss: 0.2744\n",
      "Epoch 12/20\n",
      "500/500 [==============================] - 100s 200ms/step - loss: 0.2407 - val_loss: 0.2750\n",
      "Epoch 13/20\n",
      "500/500 [==============================] - 100s 200ms/step - loss: 0.2365 - val_loss: 0.2800\n",
      "Epoch 14/20\n",
      "500/500 [==============================] - 100s 200ms/step - loss: 0.2324 - val_loss: 0.2793\n",
      "Epoch 15/20\n",
      "500/500 [==============================] - 100s 199ms/step - loss: 0.2286 - val_loss: 0.2802\n",
      "Epoch 16/20\n",
      "500/500 [==============================] - 100s 200ms/step - loss: 0.2248 - val_loss: 0.2827\n",
      "Epoch 17/20\n",
      "500/500 [==============================] - 100s 200ms/step - loss: 0.2187 - val_loss: 0.2837\n",
      "Epoch 18/20\n",
      "500/500 [==============================] - 100s 200ms/step - loss: 0.2151 - val_loss: 0.2834\n",
      "Epoch 19/20\n",
      "500/500 [==============================] - 100s 200ms/step - loss: 0.2107 - val_loss: 0.2832\n",
      "Epoch 20/20\n",
      "500/500 [==============================] - 102s 204ms/step - loss: 0.2080 - val_loss: 0.2875\n"
     ]
    }
   ],
   "source": [
    "history= model.fit_generator(train_gen, steps_per_epoch= 500, epochs= 20, validation_data= val_gen, validation_steps= val_steps)"
   ]
  },
  {
   "cell_type": "code",
   "execution_count": 109,
   "metadata": {},
   "outputs": [
    {
     "data": {
      "image/png": "[encoded data removed]",
      "text/plain": [
       "<Figure size 432x288 with 1 Axes>"
      ]
     },
     "metadata": {
      "needs_background": "light"
     },
     "output_type": "display_data"
    }
   ],
   "source": [
    "#acc = history.history['acc']\n",
    "#val_acc = history.history['val_acc']\n",
    "loss = history.history['loss']\n",
    "val_loss = history.history['val_loss']\n",
    "\n",
    "epochs = range(1, len(loss) + 1)\n",
    "\n",
    "# plt.plot(epochs, acc, 'bo', label='Training acc')\n",
    "# plt.plot(epochs, val_acc, 'b', label='Validation acc')\n",
    "# plt.title('Training and validation accuracy')\n",
    "# plt.legend()\n",
    "\n",
    "plt.figure()\n",
    "\n",
    "plt.plot(epochs, loss, 'bo', label='Training loss')\n",
    "plt.plot(epochs, val_loss, 'b', label='Validation loss')\n",
    "plt.title('Training and validation loss')\n",
    "plt.legend()\n",
    "\n",
    "plt.show()"
   ]
  },
  {
   "cell_type": "code",
   "execution_count": null,
   "metadata": {},
   "outputs": [],
   "source": []
  }
 ],
 "metadata": {
  "kernelspec": {
   "display_name": "Python 3",
   "language": "python",
   "name": "python3"
  },
  "language_info": {
   "codemirror_mode": {
    "name": "ipython",
    "version": 3
   },
   "file_extension": ".py",
   "mimetype": "text/x-python",
   "name": "python",
   "nbconvert_exporter": "python",
   "pygments_lexer": "ipython3",
   "version": "3.6.6"
  }
 },
 "nbformat": 4,
 "nbformat_minor": 2
}
